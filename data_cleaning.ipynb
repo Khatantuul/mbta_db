{
 "cells": [
  {
   "cell_type": "code",
   "execution_count": 22,
   "metadata": {},
   "outputs": [],
   "source": [
    "import pandas as pd\n",
    "from pandas import DataFrame"
   ]
  },
  {
   "cell_type": "code",
   "execution_count": 23,
   "metadata": {},
   "outputs": [],
   "source": [
    "file_path = \"./MBTA_Monthly_Ridership_By_Mode.csv\"\n",
    "rail_ridership = pd.read_csv(file_path)"
   ]
  },
  {
   "cell_type": "code",
   "execution_count": 24,
   "metadata": {},
   "outputs": [],
   "source": [
    "columns_to_keep = [\n",
    "    \"service_date\", \n",
    "    \"route_or_line\", \n",
    "    \"total_monthly_weekday_ridership\", \n",
    "    \"total_monthly_ridership\", \n",
    "    \"countofdates_weekday\", \n",
    "    \"countofdates\"\n",
    "]\n",
    "\n",
    "line_name_to_id = {\n",
    "    \"Green Line\": 3,\n",
    "    \"Orange Line\": 2,\n",
    "    \"Red Line\": 1,\n",
    "    \"Blue Line\": 4\n",
    "}"
   ]
  },
  {
   "cell_type": "code",
   "execution_count": 25,
   "metadata": {},
   "outputs": [],
   "source": [
    "ridership = rail_ridership[rail_ridership[\"mode\"] == \"Rail\"]\n",
    "ridership = ridership[columns_to_keep]\n",
    "ridership[\"service_date\"] = ridership[\"service_date\"].str.replace('/','-')\n",
    "ridership[\"route_or_line\"] = ridership[\"route_or_line\"].map(line_name_to_id)\n",
    "ridership[\"total_monthly_weekday_ridership\"] = ridership[\"total_monthly_weekday_ridership\"].round(2)\n",
    "ridership[\"total_monthly_ridership\"] = ridership[\"total_monthly_ridership\"].round(2)\n",
    "\n",
    "insert_statements = []\n",
    "for _, row in ridership.iterrows():\n",
    "    insert_statement = ( f\"('{row['service_date'][:10]}', {row['route_or_line']}, \"\n",
    "        f\"{row['total_monthly_weekday_ridership']}, {row['total_monthly_ridership']}, \"\n",
    "        f\"{row['countofdates_weekday']}, {row['countofdates']})\"\n",
    "    )\n",
    "\n",
    "    insert_statements.append(insert_statement)\n",
    "\n",
    "with open(\"rail_ridership.sql\", \"w\") as f:\n",
    "    f.write(\",\\n\".join(insert_statements))"
   ]
  }
 ],
 "metadata": {
  "kernelspec": {
   "display_name": "venv",
   "language": "python",
   "name": "python3"
  },
  "language_info": {
   "codemirror_mode": {
    "name": "ipython",
    "version": 3
   },
   "file_extension": ".py",
   "mimetype": "text/x-python",
   "name": "python",
   "nbconvert_exporter": "python",
   "pygments_lexer": "ipython3",
   "version": "3.13.0"
  }
 },
 "nbformat": 4,
 "nbformat_minor": 2
}
